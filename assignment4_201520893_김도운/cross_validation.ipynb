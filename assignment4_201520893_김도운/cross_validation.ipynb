{
 "cells": [
  {
   "cell_type": "code",
   "execution_count": 1,
   "metadata": {},
   "outputs": [],
   "source": [
    "import numpy as np\n",
    "import matplotlib as mpl\n",
    "import matplotlib.pyplot as plt\n",
    "import pandas as pd\n",
    "from matplotlib.colors import ListedColormap, colorConverter, LinearSegmentedColormap\n",
    "from mlxtend.plotting import plot_decision_regions\n",
    "from sklearn import decomposition\n",
    "from sklearn.svm import SVC, LinearSVC\n",
    "from sklearn.neighbors import KNeighborsClassifier\n",
    "from sklearn.tree import DecisionTreeClassifier\n",
    "from sklearn.ensemble import RandomForestClassifier\n",
    "from sklearn.pipeline import Pipeline\n",
    "from sklearn.feature_selection import SelectKBest, chi2\n",
    "from sklearn.preprocessing import StandardScaler\n",
    "from sklearn.model_selection import cross_val_score\n",
    "from sklearn.model_selection import train_test_split\n",
    "from sklearn.model_selection import StratifiedKFold\n",
    "from sklearn.model_selection import GridSearchCV, LeaveOneOut, KFold"
   ]
  },
  {
   "cell_type": "code",
   "execution_count": 4,
   "metadata": {},
   "outputs": [],
   "source": [
    "from sklearn.datasets import load_wine\n",
    "wine = load_wine()\n",
    "\n",
    "scaler = StandardScaler()\n",
    "X = scaler.fit_transform(wine.data)\n",
    "y = wine.target\n",
    "\n",
    "X_train, X_test, y_train, y_test = train_test_split(X, y, test_size=0.1, stratify=y, random_state=None)"
   ]
  },
  {
   "cell_type": "code",
   "execution_count": 5,
   "metadata": {},
   "outputs": [],
   "source": [
    "# knn 모델에서 최적의 모델 찾기\n",
    "knn = KNeighborsClassifier()\n",
    "params_knn = {'n_neighbors': [3,5,7,9,11,13,15,17,19,21,23,25,27,29], 'p': [1, 2]}\n",
    "knn_cv5 = GridSearchCV(knn, params_knn, cv=5, scoring='accuracy').fit(X_train, y_train)\n",
    "knn_cv10 = GridSearchCV(knn, params_knn, cv=10, scoring='accuracy').fit(X_train, y_train)\n",
    "knn_cv15 = GridSearchCV(knn, params_knn, cv=15, scoring='accuracy').fit(X_train, y_train)\n",
    "knn_cv20 = GridSearchCV(knn, params_knn, cv=20, scoring='accuracy').fit(X_train, y_train)\n",
    "knn_loo = GridSearchCV(knn, params_knn, cv=LeaveOneOut(), scoring='accuracy').fit(X_train, y_train)"
   ]
  },
  {
   "cell_type": "code",
   "execution_count": 6,
   "metadata": {},
   "outputs": [
    {
     "name": "stdout",
     "output_type": "stream",
     "text": [
      "1. knn\n",
      "case 1 : 5 folds\n",
      "params : {'n_neighbors': 3, 'p': 1}, score : 0.98125\n",
      "case 2 : 10 folds\n",
      "params : {'n_neighbors': 3, 'p': 1}, score : 0.98125\n",
      "case 3 : 15 folds\n",
      "params : {'n_neighbors': 11, 'p': 1}, score : 0.993939393939394\n",
      "case 4 : 20 folds\n",
      "params : {'n_neighbors': 11, 'p': 1}, score : 0.9875\n",
      "case 5 : Leave one out\n",
      "params : {'n_neighbors': 11, 'p': 1}, score : 0.9875\n"
     ]
    }
   ],
   "source": [
    "print(\"1. knn\")\n",
    "print(\"case 1 : 5 folds\\nparams : {}, score : {}\".format(knn_cv5.best_params_, knn_cv5.best_score_))\n",
    "print(\"case 2 : 10 folds\\nparams : {}, score : {}\".format(knn_cv10.best_params_, knn_cv10.best_score_))\n",
    "print(\"case 3 : 15 folds\\nparams : {}, score : {}\".format(knn_cv15.best_params_, knn_cv15.best_score_))\n",
    "print(\"case 4 : 20 folds\\nparams : {}, score : {}\".format(knn_cv20.best_params_, knn_cv20.best_score_))\n",
    "print(\"case 5 : Leave one out\\nparams : {}, score : {}\".format(knn_loo.best_params_, knn_loo.best_score_))\n",
    "knn = knn_cv5.best_estimator_"
   ]
  },
  {
   "cell_type": "code",
   "execution_count": 7,
   "metadata": {},
   "outputs": [],
   "source": [
    "# decision tree 모델에서 최적의 모델 찾기\n",
    "\n",
    "tree = DecisionTreeClassifier()\n",
    "params_tree = {'criterion': ['entropy', 'gini'],\n",
    "              'max_depth': np.arange(1,10)}\n",
    "tree_cv5 = GridSearchCV(tree, params_tree, cv=5, scoring='accuracy').fit(X_train, y_train)\n",
    "tree_cv10 = GridSearchCV(tree, params_tree, cv=10, scoring='accuracy').fit(X_train, y_train)\n",
    "tree_cv15 = GridSearchCV(tree, params_tree, cv=15, scoring='accuracy').fit(X_train, y_train)\n",
    "tree_cv20 = GridSearchCV(tree, params_tree, cv=20, scoring='accuracy').fit(X_train, y_train)\n",
    "tree_loo = GridSearchCV(tree, params_tree, cv=LeaveOneOut(), scoring='accuracy').fit(X_train, y_train)"
   ]
  },
  {
   "cell_type": "code",
   "execution_count": 8,
   "metadata": {},
   "outputs": [
    {
     "name": "stdout",
     "output_type": "stream",
     "text": [
      "2. tree\n",
      "case 1 : 5 fold\n",
      "params : {'criterion': 'entropy', 'max_depth': 6}, score : 0.95\n",
      "case 2 : 10 fold\n",
      "params : {'criterion': 'entropy', 'max_depth': 6}, score : 0.9375\n",
      "case 3 : 15 fold\n",
      "params : {'criterion': 'entropy', 'max_depth': 7}, score : 0.9569696969696969\n",
      "case 4 : 20 fold\n",
      "params : {'criterion': 'entropy', 'max_depth': 6}, score : 0.94375\n",
      "case 5 : Leave one out\n",
      "params : {'criterion': 'entropy', 'max_depth': 4}, score : 0.9375\n"
     ]
    }
   ],
   "source": [
    "print(\"2. tree\")\n",
    "print(\"case 1 : 5 fold\\nparams : {}, score : {}\".format(tree_cv5.best_params_, tree_cv5.best_score_))\n",
    "print(\"case 2 : 10 fold\\nparams : {}, score : {}\".format(tree_cv10.best_params_, tree_cv10.best_score_))\n",
    "print(\"case 3 : 15 fold\\nparams : {}, score : {}\".format(tree_cv15.best_params_, tree_cv15.best_score_))\n",
    "print(\"case 4 : 20 fold\\nparams : {}, score : {}\".format(tree_cv20.best_params_, tree_cv20.best_score_))\n",
    "print(\"case 5 : Leave one out\\nparams : {}, score : {}\".format(tree_loo.best_params_, tree_loo.best_score_))\n",
    "tree = knn_cv5.best_estimator_"
   ]
  },
  {
   "cell_type": "code",
   "execution_count": 9,
   "metadata": {},
   "outputs": [],
   "source": [
    "# SVM 모델에서 최적의 모델 찾기\n",
    "\n",
    "svm = SVC()\n",
    "params_svm = {'C':[0.01, 0.1, 1, 10],\n",
    "             'gamma':[0.1, 0.01, 0.001, 0.0001],\n",
    "             'kernel':['rbf', 'poly', 'linear']}\n",
    "svm_cv5 = GridSearchCV(svm, params_svm, cv=5, scoring='accuracy').fit(X_train, y_train)\n",
    "svm_cv10 = GridSearchCV(svm, params_svm, cv=10, scoring='accuracy').fit(X_train, y_train)\n",
    "svm_cv15 = GridSearchCV(svm, params_svm, cv=15, scoring='accuracy').fit(X_train, y_train)\n",
    "svm_cv20 = GridSearchCV(svm, params_svm, cv=20, scoring='accuracy').fit(X_train, y_train)\n",
    "svm_loo = GridSearchCV(svm, params_svm, cv=LeaveOneOut(), scoring='accuracy').fit(X_train, y_train)"
   ]
  },
  {
   "cell_type": "code",
   "execution_count": 10,
   "metadata": {},
   "outputs": [
    {
     "name": "stdout",
     "output_type": "stream",
     "text": [
      "3. svm\n",
      "case 1 : 5 fold\n",
      "params : {'C': 10, 'gamma': 0.001, 'kernel': 'rbf'}, score : 0.9875\n",
      "case 2 : 10 fold\n",
      "params : {'C': 1, 'gamma': 0.1, 'kernel': 'rbf'}, score : 0.98125\n",
      "case 3 : 15 fold\n",
      "params : {'C': 0.01, 'gamma': 0.1, 'kernel': 'linear'}, score : 0.9818181818181818\n",
      "case 4 : 20 fold\n",
      "params : {'C': 0.01, 'gamma': 0.1, 'kernel': 'linear'}, score : 0.98125\n",
      "case 5 : Leave one out\n",
      "params : {'C': 0.01, 'gamma': 0.1, 'kernel': 'linear'}, score : 0.9875\n"
     ]
    }
   ],
   "source": [
    "print(\"3. svm\")\n",
    "print(\"case 1 : 5 fold\\nparams : {}, score : {}\".format(svm_cv5.best_params_, svm_cv5.best_score_))\n",
    "print(\"case 2 : 10 fold\\nparams : {}, score : {}\".format(svm_cv10.best_params_, svm_cv10.best_score_))\n",
    "print(\"case 3 : 15 fold\\nparams : {}, score : {}\".format(svm_cv15.best_params_, svm_cv15.best_score_))\n",
    "print(\"case 4 : 20 fold\\nparams : {}, score : {}\".format(svm_cv20.best_params_, svm_cv20.best_score_))\n",
    "print(\"case 5 : Leave one out\\nparams : {}, score : {}\".format(svm_loo.best_params_, svm_loo.best_score_))\n",
    "svm = svm_cv5.best_estimator_"
   ]
  },
  {
   "cell_type": "code",
   "execution_count": 11,
   "metadata": {},
   "outputs": [],
   "source": [
    "# Random forest 모델에서 최적의 모델 찾기\n",
    "\n",
    "forest = RandomForestClassifier()\n",
    "params_forest = {'n_estimators':[1, 5, 10, 15, 20],\n",
    "             'criterion':['gini','entropy'],\n",
    "                'max_depth':[2,3,4,5]}\n",
    "forest_cv5 = GridSearchCV(forest, params_forest, cv=5, scoring='accuracy').fit(X_train, y_train)\n",
    "forest_cv10 = GridSearchCV(forest, params_forest, cv=10, scoring='accuracy').fit(X_train, y_train)\n",
    "forest_cv15 = GridSearchCV(forest, params_forest, cv=15, scoring='accuracy').fit(X_train, y_train)\n",
    "forest_cv20 = GridSearchCV(forest, params_forest, cv=20, scoring='accuracy').fit(X_train, y_train)\n",
    "forest_loo = GridSearchCV(forest, params_forest, cv=LeaveOneOut(), scoring='accuracy').fit(X_train, y_train)"
   ]
  },
  {
   "cell_type": "code",
   "execution_count": 12,
   "metadata": {},
   "outputs": [
    {
     "name": "stdout",
     "output_type": "stream",
     "text": [
      "4. random forest\n",
      "case 1 : 5 fold\n",
      "params : {'criterion': 'gini', 'max_depth': 4, 'n_estimators': 10}, score : 0.9875\n",
      "case 2 : 10 fold\n",
      "params : {'criterion': 'entropy', 'max_depth': 3, 'n_estimators': 10}, score : 0.9875\n",
      "case 3 : 15 fold\n",
      "params : {'criterion': 'gini', 'max_depth': 5, 'n_estimators': 10}, score : 0.9878787878787879\n",
      "case 4 : 20 fold\n",
      "params : {'criterion': 'gini', 'max_depth': 3, 'n_estimators': 20}, score : 0.9875\n",
      "case 5 : Leave one out\n",
      "params : {'criterion': 'gini', 'max_depth': 3, 'n_estimators': 15}, score : 0.9875\n"
     ]
    }
   ],
   "source": [
    "print(\"4. random forest\")\n",
    "print(\"case 1 : 5 fold\\nparams : {}, score : {}\".format(forest_cv5.best_params_, forest_cv5.best_score_))\n",
    "print(\"case 2 : 10 fold\\nparams : {}, score : {}\".format(forest_cv10.best_params_, forest_cv10.best_score_))\n",
    "print(\"case 3 : 15 fold\\nparams : {}, score : {}\".format(forest_cv15.best_params_, forest_cv15.best_score_))\n",
    "print(\"case 4 : 20 fold\\nparams : {}, score : {}\".format(forest_cv20.best_params_, forest_cv20.best_score_))\n",
    "print(\"case 5 : Leave one out\\nparams : {}, score : {}\".format(forest_loo.best_params_, forest_loo.best_score_))\n",
    "forest = forest_cv20.best_estimator_"
   ]
  },
  {
   "cell_type": "code",
   "execution_count": 13,
   "metadata": {},
   "outputs": [],
   "source": [
    "# 각 fold로 모델 성능 점검했을 때, best score를 배열에 저장\n",
    "kv_scores = [knn_cv5.best_score_, knn_cv10.best_score_, knn_cv15.best_score_, knn_cv20.best_score_, knn_loo.best_score_] \n",
    "tree_scores = [tree_cv5.best_score_, tree_cv10.best_score_, tree_cv15.best_score_, tree_cv20.best_score_, tree_loo.best_score_]\n",
    "svm_scores = [svm_cv5.best_score_, svm_cv10.best_score_, svm_cv15.best_score_, svm_cv20.best_score_, svm_loo.best_score_]\n",
    "forest_scores = [forest_cv5.best_score_, forest_cv10.best_score_, forest_cv15.best_score_, forest_cv20.best_score_, forest_loo.best_score_]"
   ]
  },
  {
   "cell_type": "code",
   "execution_count": 14,
   "metadata": {
    "scrolled": true
   },
   "outputs": [
    {
     "data": {
      "text/html": [
       "<div>\n",
       "<style scoped>\n",
       "    .dataframe tbody tr th:only-of-type {\n",
       "        vertical-align: middle;\n",
       "    }\n",
       "\n",
       "    .dataframe tbody tr th {\n",
       "        vertical-align: top;\n",
       "    }\n",
       "\n",
       "    .dataframe thead th {\n",
       "        text-align: right;\n",
       "    }\n",
       "</style>\n",
       "<table border=\"1\" class=\"dataframe\">\n",
       "  <thead>\n",
       "    <tr style=\"text-align: right;\">\n",
       "      <th></th>\n",
       "      <th>5 fold</th>\n",
       "      <th>10 fold</th>\n",
       "      <th>15 fold</th>\n",
       "      <th>20 fold</th>\n",
       "      <th>Leave one out</th>\n",
       "    </tr>\n",
       "  </thead>\n",
       "  <tbody>\n",
       "    <tr>\n",
       "      <th>knn</th>\n",
       "      <td>0.98125</td>\n",
       "      <td>0.98125</td>\n",
       "      <td>0.993939</td>\n",
       "      <td>0.98750</td>\n",
       "      <td>0.9875</td>\n",
       "    </tr>\n",
       "    <tr>\n",
       "      <th>random forest</th>\n",
       "      <td>0.98750</td>\n",
       "      <td>0.98750</td>\n",
       "      <td>0.987879</td>\n",
       "      <td>0.98750</td>\n",
       "      <td>0.9875</td>\n",
       "    </tr>\n",
       "    <tr>\n",
       "      <th>SVM</th>\n",
       "      <td>0.98750</td>\n",
       "      <td>0.98125</td>\n",
       "      <td>0.981818</td>\n",
       "      <td>0.98125</td>\n",
       "      <td>0.9875</td>\n",
       "    </tr>\n",
       "    <tr>\n",
       "      <th>decision tree</th>\n",
       "      <td>0.95000</td>\n",
       "      <td>0.93750</td>\n",
       "      <td>0.956970</td>\n",
       "      <td>0.94375</td>\n",
       "      <td>0.9375</td>\n",
       "    </tr>\n",
       "  </tbody>\n",
       "</table>\n",
       "</div>"
      ],
      "text/plain": [
       "                5 fold  10 fold   15 fold  20 fold  Leave one out\n",
       "knn            0.98125  0.98125  0.993939  0.98750         0.9875\n",
       "random forest  0.98750  0.98750  0.987879  0.98750         0.9875\n",
       "SVM            0.98750  0.98125  0.981818  0.98125         0.9875\n",
       "decision tree  0.95000  0.93750  0.956970  0.94375         0.9375"
      ]
     },
     "execution_count": 14,
     "metadata": {},
     "output_type": "execute_result"
    }
   ],
   "source": [
    "# best socre들을 frame화\n",
    "df_scores = pd.DataFrame(data = [kv_scores, forest_scores, svm_scores,  tree_scores],\n",
    "                        index=['knn', 'random forest', 'SVM', 'decision tree'],\n",
    "                        columns=['5 fold', '10 fold', '15 fold', '20 fold', 'Leave one out'])\n",
    "df_scores\n"
   ]
  },
  {
   "cell_type": "code",
   "execution_count": 31,
   "metadata": {},
   "outputs": [
    {
     "data": {
      "text/plain": [
       "<matplotlib.axes._subplots.AxesSubplot at 0x2878ec46dc0>"
      ]
     },
     "execution_count": 31,
     "metadata": {},
     "output_type": "execute_result"
    },
    {
     "data": {
      "image/png": "[encoded data removed]",
      "text/plain": [
       "<Figure size 432x288 with 1 Axes>"
      ]
     },
     "metadata": {
      "needs_background": "light"
     },
     "output_type": "display_data"
    }
   ],
   "source": [
    "# data frame을 plot으로 표현\n",
    "df_scores.plot.line()"
   ]
  },
  {
   "cell_type": "code",
   "execution_count": 18,
   "metadata": {},
   "outputs": [
    {
     "name": "stdout",
     "output_type": "stream",
     "text": [
      "1. best knn model           : KNeighborsClassifier(algorithm='auto', leaf_size=30, metric='minkowski',\n",
      "                     metric_params=None, n_jobs=None, n_neighbors=11, p=1,\n",
      "                     weights='uniform')\n",
      "2. best decision tree model : DecisionTreeClassifier(ccp_alpha=0.0, class_weight=None, criterion='entropy',\n",
      "                       max_depth=7, max_features=None, max_leaf_nodes=None,\n",
      "                       min_impurity_decrease=0.0, min_impurity_split=None,\n",
      "                       min_samples_leaf=1, min_samples_split=2,\n",
      "                       min_weight_fraction_leaf=0.0, presort='deprecated',\n",
      "                       random_state=None, splitter='best')\n",
      "3. best SVM model           : SVC(C=0.01, break_ties=False, cache_size=200, class_weight=None, coef0=0.0,\n",
      "    decision_function_shape='ovr', degree=3, gamma=0.1, kernel='linear',\n",
      "    max_iter=-1, probability=False, random_state=None, shrinking=True,\n",
      "    tol=0.001, verbose=False)\n",
      "4. best random forest model : RandomForestClassifier(bootstrap=True, ccp_alpha=0.0, class_weight=None,\n",
      "                       criterion='gini', max_depth=5, max_features='auto',\n",
      "                       max_leaf_nodes=None, max_samples=None,\n",
      "                       min_impurity_decrease=0.0, min_impurity_split=None,\n",
      "                       min_samples_leaf=1, min_samples_split=2,\n",
      "                       min_weight_fraction_leaf=0.0, n_estimators=10,\n",
      "                       n_jobs=None, oob_score=False, random_state=None,\n",
      "                       verbose=0, warm_start=False)\n"
     ]
    }
   ],
   "source": [
    "# 위의 data frame을 참고로 성능이 높게 측정되었던 모델의 설정값 출력\n",
    "print(\"1. best knn model           : {}\".format(knn_cv15.best_estimator_))\n",
    "print(\"2. best decision tree model : {}\".format(tree_cv15.best_estimator_))\n",
    "print(\"3. best SVM model           : {}\".format(svm_loo.best_estimator_))\n",
    "print(\"4. best random forest model : {}\".format(forest_cv15.best_estimator_))"
   ]
  },
  {
   "cell_type": "code",
   "execution_count": 17,
   "metadata": {},
   "outputs": [
    {
     "name": "stdout",
     "output_type": "stream",
     "text": [
      "Test set accuracy in best KNN          : 0.944\n",
      "Test set accuracy in best Decision tree: 0.944\n",
      "Test set accuracy in best SVM          : 1.000\n",
      "Test set accuracy in best Random forest: 0.944\n"
     ]
    }
   ],
   "source": [
    "# 최종 성능평가\n",
    "print(\"Test set accuracy in best KNN          : {:.3f}\".format(knn.score(X_test, y_test)))\n",
    "print(\"Test set accuracy in best Decision tree: {:.3f}\".format(tree.score(X_test, y_test)))\n",
    "print(\"Test set accuracy in best SVM          : {:.3f}\".format(svm.score(X_test, y_test)))\n",
    "print(\"Test set accuracy in best Random forest: {:.3f}\".format(forest.score(X_test, y_test)))"
   ]
  },
  {
   "cell_type": "code",
   "execution_count": null,
   "metadata": {},
   "outputs": [],
   "source": []
  }
 ],
 "metadata": {
  "kernelspec": {
   "display_name": "Python 3",
   "language": "python",
   "name": "python3"
  },
  "language_info": {
   "codemirror_mode": {
    "name": "ipython",
    "version": 3
   },
   "file_extension": ".py",
   "mimetype": "text/x-python",
   "name": "python",
   "nbconvert_exporter": "python",
   "pygments_lexer": "ipython3",
   "version": "3.8.2"
  }
 },
 "nbformat": 4,
 "nbformat_minor": 4
}
